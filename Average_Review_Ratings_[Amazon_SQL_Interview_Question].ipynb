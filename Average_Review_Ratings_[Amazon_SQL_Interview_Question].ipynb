{
  "cells": [
    {
      "cell_type": "markdown",
      "metadata": {
        "id": "view-in-github",
        "colab_type": "text"
      },
      "source": [
        "<a href=\"https://colab.research.google.com/github/lawgorithm/sql_practice/blob/main/Average_Review_Ratings_%5BAmazon_SQL_Interview_Question%5D.ipynb\" target=\"_parent\"><img src=\"https://colab.research.google.com/assets/colab-badge.svg\" alt=\"Open In Colab\"/></a>"
      ]
    },
    {
      "cell_type": "markdown",
      "source": [
        "https://datalemur.com/questions/sql-avg-review-ratings"
      ],
      "metadata": {
        "id": "LIOBy6QhA_Os"
      }
    },
    {
      "cell_type": "code",
      "source": [
        "# NEeded to use a subquery here for some reason because replacing month_ with\n",
        "# mth everywhere gives an error on the website\n",
        "\n",
        "%%sql\n",
        "WITH table1 as (\n",
        "SELECT\n",
        "  EXTRACT(MONTH FROM submit_date) as month_,\n",
        "  product_id,\n",
        "  ROUND(AVG(stars), 2) as avg_stars\n",
        "FROM reviews\n",
        "GROUP BY month_, product_id\n",
        ")\n",
        "SELECT\n",
        "  month_ as mth,\n",
        "  product_id,\n",
        "  avg_stars\n",
        "FROM table1\n",
        "ORDER BY mth ASC\n",
        ";"
      ],
      "metadata": {
        "id": "6ax7p5I_jnve"
      },
      "execution_count": null,
      "outputs": []
    }
  ],
  "metadata": {
    "colab": {
      "provenance": [],
      "include_colab_link": true
    },
    "kernelspec": {
      "display_name": "Python 3",
      "name": "python3"
    }
  },
  "nbformat": 4,
  "nbformat_minor": 0
}