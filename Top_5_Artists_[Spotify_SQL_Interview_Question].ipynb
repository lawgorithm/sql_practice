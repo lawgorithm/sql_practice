{
  "cells": [
    {
      "cell_type": "markdown",
      "metadata": {
        "id": "view-in-github",
        "colab_type": "text"
      },
      "source": [
        "<a href=\"https://colab.research.google.com/github/lawgorithm/sql_practice/blob/main/Top_5_Artists_%5BSpotify_SQL_Interview_Question%5D.ipynb\" target=\"_parent\"><img src=\"https://colab.research.google.com/assets/colab-badge.svg\" alt=\"Open In Colab\"/></a>"
      ]
    },
    {
      "cell_type": "markdown",
      "source": [
        "https://datalemur.com/questions/top-fans-rank"
      ],
      "metadata": {
        "id": "LIOBy6QhA_Os"
      }
    },
    {
      "cell_type": "code",
      "source": [
        "%%sql\n",
        "WITH table1 AS (\n",
        "SELECT\n",
        "  c.artist_name,\n",
        "  COUNT(a.day) as num_appearances\n",
        "FROM\n",
        "  global_song_rank as a\n",
        "  LEFT JOIN\n",
        "  songs as b ON (a.song_id = b.song_id)\n",
        "  LEFT JOIN artists as c ON (b.artist_id = c.artist_id)\n",
        "WHERE\n",
        "  a.rank <= 10\n",
        "GROUP BY artist_name\n",
        "), table2 AS (\n",
        "SELECT\n",
        "  artist_name,\n",
        "  DENSE_RANK() OVER (\n",
        "    ORDER BY num_appearances DESC\n",
        "  ) as artist_rank\n",
        "FROM table1\n",
        ")\n",
        "SELECT\n",
        "  *\n",
        "FROM table2\n",
        "WHERE\n",
        "  artist_rank <= 5\n",
        ";"
      ],
      "metadata": {
        "id": "6ax7p5I_jnve"
      },
      "execution_count": null,
      "outputs": []
    }
  ],
  "metadata": {
    "colab": {
      "provenance": [],
      "include_colab_link": true
    },
    "kernelspec": {
      "display_name": "Python 3",
      "name": "python3"
    }
  },
  "nbformat": 4,
  "nbformat_minor": 0
}