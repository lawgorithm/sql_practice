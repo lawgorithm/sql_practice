{
  "cells": [
    {
      "cell_type": "markdown",
      "metadata": {
        "id": "view-in-github",
        "colab_type": "text"
      },
      "source": [
        "<a href=\"https://colab.research.google.com/github/lawgorithm/sql_practice/blob/main/IBM_db2_Product_Analytics_%5BIBM_SQL_Interview_Question%5D.ipynb\" target=\"_parent\"><img src=\"https://colab.research.google.com/assets/colab-badge.svg\" alt=\"Open In Colab\"/></a>"
      ]
    },
    {
      "cell_type": "markdown",
      "source": [
        "https://datalemur.com/questions/sql-ibm-db2-product-analytics"
      ],
      "metadata": {
        "id": "LIOBy6QhA_Os"
      }
    },
    {
      "cell_type": "code",
      "source": [
        "%%sql\n",
        "WITH active_employees AS (\n",
        "SELECT\n",
        "  employee_id,\n",
        "  COUNT(query_id) as unique_queries\n",
        "FROM\n",
        "  queries\n",
        "WHERE\n",
        "  # Note: if you put this WHERE clause in the join, you will filter out 0 query\n",
        "  # users because query_starttime is NULL for them\n",
        "  (query_starttime >= '2023-07-01'\n",
        "  AND query_starttime < '2023-10-01')\n",
        "GROUP BY employee_id\n",
        "), all_employees AS (\n",
        "SELECT\n",
        "  e.employee_id,\n",
        "  COALESCE(unique_queries, 0) as unique_queries\n",
        "FROM\n",
        "  employees as e\n",
        "  LEFT JOIN\n",
        "  active_employees as b ON (e.employee_id = b.employee_id)\n",
        ")\n",
        "SELECT\n",
        "  unique_queries,\n",
        "  COUNT(employee_id) AS employee_count\n",
        "FROM all_employees\n",
        "GROUP BY unique_queries\n",
        "ORDER BY unique_queries ASC\n",
        ";"
      ],
      "metadata": {
        "id": "6ax7p5I_jnve"
      },
      "execution_count": null,
      "outputs": []
    }
  ],
  "metadata": {
    "colab": {
      "provenance": [],
      "include_colab_link": true
    },
    "kernelspec": {
      "display_name": "Python 3",
      "name": "python3"
    }
  },
  "nbformat": 4,
  "nbformat_minor": 0
}