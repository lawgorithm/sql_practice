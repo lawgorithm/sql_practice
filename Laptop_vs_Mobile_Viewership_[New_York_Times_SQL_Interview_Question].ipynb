{
  "cells": [
    {
      "cell_type": "markdown",
      "metadata": {
        "id": "view-in-github",
        "colab_type": "text"
      },
      "source": [
        "<a href=\"https://colab.research.google.com/github/lawgorithm/sql_practice/blob/main/Laptop_vs_Mobile_Viewership_%5BNew_York_Times_SQL_Interview_Question%5D.ipynb\" target=\"_parent\"><img src=\"https://colab.research.google.com/assets/colab-badge.svg\" alt=\"Open In Colab\"/></a>"
      ]
    },
    {
      "cell_type": "markdown",
      "source": [
        "https://datalemur.com/questions/laptop-mobile-viewership"
      ],
      "metadata": {
        "id": "LIOBy6QhA_Os"
      }
    },
    {
      "cell_type": "code",
      "source": [
        "%%sql\n",
        "SELECT\n",
        "  SUM(CASE WHEN device_type = 'laptop' THEN 1 END) AS laptop_views,\n",
        "  SUM(CASE WHEN device_type != 'laptop' THEN 1 END) AS mobile_views\n",
        "FROM viewership;"
      ],
      "metadata": {
        "id": "6ax7p5I_jnve"
      },
      "execution_count": null,
      "outputs": []
    },
    {
      "cell_type": "code",
      "source": [
        "%%sql\n",
        "SELECT\n",
        "  SUM(CASE WHEN device_type = 'laptop' THEN 1 ELSE 0 END) AS laptop_views,\n",
        "  SUM(CASE WHEN device_type != 'laptop' THEN 1 ELSE 0 END) AS mobile_views\n",
        "FROM viewership;"
      ],
      "metadata": {
        "id": "2SLBiPFvj7NO"
      },
      "execution_count": null,
      "outputs": []
    },
    {
      "cell_type": "code",
      "source": [
        "%%sql\n",
        "\n",
        "With table1 AS (\n",
        "SELECT\n",
        "  (CASE\n",
        "    WHEN device_type = 'laptop' THEN 'laptop'\n",
        "    ELSE 'mobile'\n",
        "    END) as device,\n",
        "  COUNT(*) as cnt\n",
        "FROM viewership\n",
        "GROUP BY device\n",
        ")\n",
        "SELECT\n",
        "  SUM(CASE WHEN device = 'laptop' THEN cnt ELSE 0 END) as laptop_views,\n",
        "  SUM(CASE WHEN device = 'mobile' THEN cnt ELSE 0 END) as mobile_views\n",
        "FROM table1\n",
        ";"
      ],
      "metadata": {
        "id": "3gcpj0kuAcpG"
      },
      "execution_count": null,
      "outputs": []
    },
    {
      "cell_type": "code",
      "source": [
        "%%sql\n",
        "\n",
        "SELECT\n",
        "  COUNT(*) FILTER (WHERE device_type = 'laptop') AS laptop_views,\n",
        "  COUNT(*) FILTER (WHERE device_type != 'laptop') AS mobile_views\n",
        "FROM viewership;"
      ],
      "metadata": {
        "id": "aKgMzVlEjQSL"
      },
      "execution_count": null,
      "outputs": []
    },
    {
      "cell_type": "code",
      "source": [
        "# This works because I think COUNT will ignore nulls but see below\n",
        "%%sql\n",
        "\n",
        "SELECT\n",
        "  COUNT(CASE WHEN device_type = 'laptop' THEN 1 END) AS laptop_views,\n",
        "  COUNT(CASE WHEN device_type != 'laptop' THEN 1 END) AS mobile_views\n",
        "FROM viewership;"
      ],
      "metadata": {
        "id": "VuKCP2DpkGjQ"
      },
      "execution_count": null,
      "outputs": []
    },
    {
      "cell_type": "markdown",
      "source": [
        "# The following doesn't work"
      ],
      "metadata": {
        "id": "dtTlXau8j9XP"
      }
    },
    {
      "cell_type": "code",
      "source": [
        "%%sql\n",
        "\n",
        "SELECT\n",
        "  COUNT(CASE WHEN device_type = 'laptop' THEN 1 ELSE 0 END) AS laptop_views,\n",
        "  COUNT(CASE WHEN device_type != 'laptop' THEN 1 ELSE 0 END) AS mobile_views\n",
        "FROM viewership;"
      ],
      "metadata": {
        "id": "1elvZ0VZkFCp"
      },
      "execution_count": null,
      "outputs": []
    }
  ],
  "metadata": {
    "colab": {
      "provenance": [],
      "include_colab_link": true
    },
    "kernelspec": {
      "display_name": "Python 3",
      "name": "python3"
    }
  },
  "nbformat": 4,
  "nbformat_minor": 0
}