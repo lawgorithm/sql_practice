{
  "cells": [
    {
      "cell_type": "markdown",
      "metadata": {
        "id": "view-in-github",
        "colab_type": "text"
      },
      "source": [
        "<a href=\"https://colab.research.google.com/github/lawgorithm/sql_practice/blob/main/Data_Science_Skills_%5BLinkedIn_SQL_Interview_Question%5D.ipynb\" target=\"_parent\"><img src=\"https://colab.research.google.com/assets/colab-badge.svg\" alt=\"Open In Colab\"/></a>"
      ]
    },
    {
      "cell_type": "markdown",
      "source": [
        "https://datalemur.com/questions/matching-skills"
      ],
      "metadata": {
        "id": "LIOBy6QhA_Os"
      }
    },
    {
      "cell_type": "code",
      "source": [
        "%%sql\n",
        "\n",
        "WITH candidate_t AS (\n",
        "SELECT\n",
        "  candidate_id,\n",
        "  COUNT(*) AS num_skills\n",
        "FROM candidates\n",
        "WHERE\n",
        "  skill IN ('Python', 'Tableau', 'PostgreSQL')\n",
        "GROUP BY candidate_id\n",
        ")\n",
        "SELECT\n",
        "  candidate_id\n",
        "FROM candidate_t\n",
        "WHERE\n",
        "  num_skills = 3\n",
        "ORDER BY candidate_id ASC\n",
        ";"
      ],
      "metadata": {
        "id": "3gcpj0kuAcpG"
      },
      "execution_count": null,
      "outputs": []
    }
  ],
  "metadata": {
    "colab": {
      "provenance": [],
      "include_colab_link": true
    },
    "kernelspec": {
      "display_name": "Python 3",
      "name": "python3"
    }
  },
  "nbformat": 4,
  "nbformat_minor": 0
}