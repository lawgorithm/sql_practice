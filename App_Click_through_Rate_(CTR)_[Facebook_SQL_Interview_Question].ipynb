{
  "cells": [
    {
      "cell_type": "markdown",
      "metadata": {
        "id": "view-in-github",
        "colab_type": "text"
      },
      "source": [
        "<a href=\"https://colab.research.google.com/github/lawgorithm/sql_practice/blob/main/App_Click_through_Rate_(CTR)_%5BFacebook_SQL_Interview_Question%5D.ipynb\" target=\"_parent\"><img src=\"https://colab.research.google.com/assets/colab-badge.svg\" alt=\"Open In Colab\"/></a>"
      ]
    },
    {
      "cell_type": "markdown",
      "source": [
        "https://datalemur.com/questions/click-through-rate"
      ],
      "metadata": {
        "id": "LIOBy6QhA_Os"
      }
    },
    {
      "cell_type": "code",
      "source": [
        "%%sql\n",
        "SELECT\n",
        "  app_id,\n",
        "  ROUND(\n",
        "    100.0 *\n",
        "    SUM(CASE WHEN event_type = 'click' THEN 1 END) /\n",
        "    SUM(CASE WHEN event_type = 'impression' THEN 1 END),\n",
        "    2) as ctr\n",
        "FROM events\n",
        "WHERE\n",
        "  timestamp BETWEEN '2022-01-01' AND '2022-12-31'\n",
        "GROUP BY 1\n",
        ";"
      ],
      "metadata": {
        "id": "6ax7p5I_jnve"
      },
      "execution_count": null,
      "outputs": []
    }
  ],
  "metadata": {
    "colab": {
      "provenance": [],
      "include_colab_link": true
    },
    "kernelspec": {
      "display_name": "Python 3",
      "name": "python3"
    }
  },
  "nbformat": 4,
  "nbformat_minor": 0
}