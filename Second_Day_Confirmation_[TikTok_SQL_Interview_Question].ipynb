{
  "cells": [
    {
      "cell_type": "markdown",
      "metadata": {
        "id": "view-in-github",
        "colab_type": "text"
      },
      "source": [
        "<a href=\"https://colab.research.google.com/github/lawgorithm/sql_practice/blob/main/Second_Day_Confirmation_%5BTikTok_SQL_Interview_Question%5D.ipynb\" target=\"_parent\"><img src=\"https://colab.research.google.com/assets/colab-badge.svg\" alt=\"Open In Colab\"/></a>"
      ]
    },
    {
      "cell_type": "markdown",
      "source": [
        "https://datalemur.com/questions/second-day-confirmation\n"
      ],
      "metadata": {
        "id": "LIOBy6QhA_Os"
      }
    },
    {
      "cell_type": "code",
      "source": [
        "%%sql\n",
        "WITH first_table AS (\n",
        "  SELECT\n",
        "    a.user_id,\n",
        "    action_date,\n",
        "    signup_date,\n",
        "    # checks if the difference between the two dates is exactly one day\n",
        "    CASE WHEN action_date - signup_date = INTERVAL '1 day' THEN 1 ELSE 0 END AS is_next_day\n",
        "  FROM emails AS a\n",
        "  LEFT JOIN texts AS b ON a.email_id = b.email_id\n",
        "  WHERE signup_action = 'Confirmed'\n",
        ")\n",
        "SELECT\n",
        "  user_id\n",
        "FROM first_table\n",
        "WHERE\n",
        "  is_next_day = 1\n",
        ";"
      ],
      "metadata": {
        "id": "6ax7p5I_jnve"
      },
      "execution_count": null,
      "outputs": []
    }
  ],
  "metadata": {
    "colab": {
      "provenance": [],
      "include_colab_link": true
    },
    "kernelspec": {
      "display_name": "Python 3",
      "name": "python3"
    }
  },
  "nbformat": 4,
  "nbformat_minor": 0
}