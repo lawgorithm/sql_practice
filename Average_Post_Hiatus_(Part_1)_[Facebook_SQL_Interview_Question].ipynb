{
  "cells": [
    {
      "cell_type": "markdown",
      "metadata": {
        "id": "view-in-github",
        "colab_type": "text"
      },
      "source": [
        "<a href=\"https://colab.research.google.com/github/lawgorithm/sql_practice/blob/main/Average_Post_Hiatus_(Part_1)_%5BFacebook_SQL_Interview_Question%5D.ipynb\" target=\"_parent\"><img src=\"https://colab.research.google.com/assets/colab-badge.svg\" alt=\"Open In Colab\"/></a>"
      ]
    },
    {
      "cell_type": "markdown",
      "source": [
        "https://datalemur.com/questions/sql-average-post-hiatus-1"
      ],
      "metadata": {
        "id": "LIOBy6QhA_Os"
      }
    },
    {
      "cell_type": "code",
      "source": [
        "# post_date is a timestamp\n",
        "\n",
        "%%sql\n",
        "SELECT\n",
        "  user_id,\n",
        "  DATE_PART('DAY', MAX(post_date) - MIN(post_date)) AS days_between\n",
        "FROM posts\n",
        "WHERE\n",
        "  post_date BETWEEN '2021-01-01' AND '2021-12-31'\n",
        "GROUP BY user_id\n",
        "HAVING COUNT(post_date) >= 2\n",
        ";"
      ],
      "metadata": {
        "id": "6ax7p5I_jnve"
      },
      "execution_count": null,
      "outputs": []
    },
    {
      "cell_type": "markdown",
      "source": [
        "### Extended timestamp diff examples"
      ],
      "metadata": {
        "id": "kegnrcOssdic"
      }
    },
    {
      "cell_type": "code",
      "source": [
        "%%sql\n",
        "SELECT\n",
        "  user_id,\n",
        "  DATE_PART('DAY', MAX(post_date) - MIN(post_date)) AS days_between,\n",
        "  # min and max functions work on timestamps\n",
        "  MIN(post_date) as earliest_post,\n",
        "  MAX(post_date) as latest_post,\n",
        "  # extract EPOCH extracts the seconds since 1970-01-01 00:00:00 UTC\n",
        "  # The below diffs the number of seconds since this starting date to\n",
        "  # get number of seconds elapsed\n",
        "  (\n",
        "    EXTRACT(EPOCH FROM MAX(post_date)) -\n",
        "    EXTRACT(EPOCH FROM MIN(post_date))\n",
        "  ) AS seconds_between,\n",
        "  # Divide by 60 to get number of minutes elapsed\n",
        "  (\n",
        "    EXTRACT(EPOCH FROM MAX(post_date)) -\n",
        "    EXTRACT(EPOCH FROM MIN(post_date))\n",
        "  ) / 60 AS minutes_between_float,\n",
        "  # Divide by 60*60 to get number of hours elapsed\n",
        "  (\n",
        "    EXTRACT(EPOCH FROM MAX(post_date)) -\n",
        "    EXTRACT(EPOCH FROM MIN(post_date))\n",
        "  ) / (60 * 60) AS hours_between_float,\n",
        "  # Divide by 60*60*24 to get number of days elapsed\n",
        "  (\n",
        "    EXTRACT(EPOCH FROM MAX(post_date)) -\n",
        "    EXTRACT(EPOCH FROM MIN(post_date))\n",
        "  ) / (60 * 60 * 24) AS days_between_float,\n",
        "  # Divide by 60*60*24 to get number of days elapsed\n",
        "  # Floor to get an integer number of days\n",
        "  FLOOR((\n",
        "    EXTRACT(EPOCH FROM MAX(post_date)) -\n",
        "    EXTRACT(EPOCH FROM MIN(post_date))\n",
        "  ) / (60 * 60 * 24)) AS days_between_alternate\n",
        "FROM posts\n",
        "WHERE\n",
        "  post_date BETWEEN '2021-01-01' AND '2021-12-31'\n",
        "GROUP BY user_id\n",
        "HAVING COUNT(post_date) >= 2\n",
        ";"
      ],
      "metadata": {
        "id": "oGwQOu-2sgFt"
      },
      "execution_count": null,
      "outputs": []
    }
  ],
  "metadata": {
    "colab": {
      "provenance": [],
      "include_colab_link": true
    },
    "kernelspec": {
      "display_name": "Python 3",
      "name": "python3"
    }
  },
  "nbformat": 4,
  "nbformat_minor": 0
}