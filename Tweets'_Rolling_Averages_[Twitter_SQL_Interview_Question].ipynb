{
  "cells": [
    {
      "cell_type": "markdown",
      "metadata": {
        "id": "view-in-github",
        "colab_type": "text"
      },
      "source": [
        "<a href=\"https://colab.research.google.com/github/lawgorithm/sql_practice/blob/main/Tweets'_Rolling_Averages_%5BTwitter_SQL_Interview_Question%5D.ipynb\" target=\"_parent\"><img src=\"https://colab.research.google.com/assets/colab-badge.svg\" alt=\"Open In Colab\"/></a>"
      ]
    },
    {
      "cell_type": "markdown",
      "source": [
        "https://datalemur.com/questions/time-spent-snaps"
      ],
      "metadata": {
        "id": "LIOBy6QhA_Os"
      }
    },
    {
      "cell_type": "code",
      "source": [
        "%%sql\n",
        "SELECT\n",
        "  user_id,\n",
        "  tweet_date,\n",
        "  ROUND(AVG(tweet_count) OVER (\n",
        "    PARTITION BY user_id # This is like grouping by user_id for the AVG(tweet_count)\n",
        "    ORDER BY tweet_date\n",
        "    ROWS BETWEEN 2 PRECEDING AND CURRENT ROW # To get a 3d rolling average we want to average three rows, the current row and the two prior\n",
        "    )\n",
        "  , 2) AS rolling_avg_3d\n",
        "FROM tweets\n",
        ";"
      ],
      "metadata": {
        "id": "6ax7p5I_jnve"
      },
      "execution_count": null,
      "outputs": []
    }
  ],
  "metadata": {
    "colab": {
      "provenance": [],
      "include_colab_link": true
    },
    "kernelspec": {
      "display_name": "Python 3",
      "name": "python3"
    }
  },
  "nbformat": 4,
  "nbformat_minor": 0
}