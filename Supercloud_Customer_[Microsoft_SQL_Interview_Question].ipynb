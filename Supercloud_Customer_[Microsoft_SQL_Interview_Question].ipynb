{
  "cells": [
    {
      "cell_type": "markdown",
      "metadata": {
        "id": "view-in-github",
        "colab_type": "text"
      },
      "source": [
        "<a href=\"https://colab.research.google.com/github/lawgorithm/sql_practice/blob/main/Supercloud_Customer_%5BMicrosoft_SQL_Interview_Question%5D.ipynb\" target=\"_parent\"><img src=\"https://colab.research.google.com/assets/colab-badge.svg\" alt=\"Open In Colab\"/></a>"
      ]
    },
    {
      "cell_type": "markdown",
      "source": [
        "https://datalemur.com/questions/supercloud-customer"
      ],
      "metadata": {
        "id": "LIOBy6QhA_Os"
      }
    },
    {
      "cell_type": "code",
      "source": [
        "%%sql\n",
        "WITH first_query AS (\n",
        "SELECT\n",
        "  customer_id,\n",
        "  TRUE as dummy_join,\n",
        "  COUNT(DISTINCT product_category) as distinct_cats\n",
        "FROM\n",
        "  customer_contracts as a\n",
        "  LEFT JOIN\n",
        "  products as b ON (a.product_id = b.product_id)\n",
        "GROUP BY customer_id, dummy_join\n",
        "), second_query AS (\n",
        "SELECT\n",
        "  TRUE as dummy_join,\n",
        "  COUNT(DISTINCT product_category) as max_distinct_cats\n",
        "FROM products\n",
        "GROUP BY dummy_join\n",
        ")\n",
        "SELECT\n",
        "  customer_id\n",
        "FROM\n",
        "  first_query as a\n",
        "  LEFT JOIN second_query as b ON (a.dummy_join = b.dummy_join)\n",
        "WHERE\n",
        "  distinct_cats = max_distinct_cats\n",
        ";"
      ],
      "metadata": {
        "id": "6ax7p5I_jnve"
      },
      "execution_count": null,
      "outputs": []
    }
  ],
  "metadata": {
    "colab": {
      "provenance": [],
      "include_colab_link": true
    },
    "kernelspec": {
      "display_name": "Python 3",
      "name": "python3"
    }
  },
  "nbformat": 4,
  "nbformat_minor": 0
}