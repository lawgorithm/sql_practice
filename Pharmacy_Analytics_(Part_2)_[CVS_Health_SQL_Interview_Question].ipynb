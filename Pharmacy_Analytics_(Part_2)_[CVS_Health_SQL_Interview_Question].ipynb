{
  "cells": [
    {
      "cell_type": "markdown",
      "metadata": {
        "id": "view-in-github",
        "colab_type": "text"
      },
      "source": [
        "<a href=\"https://colab.research.google.com/github/lawgorithm/sql_practice/blob/main/Pharmacy_Analytics_(Part_2)_%5BCVS_Health_SQL_Interview_Question%5D.ipynb\" target=\"_parent\"><img src=\"https://colab.research.google.com/assets/colab-badge.svg\" alt=\"Open In Colab\"/></a>"
      ]
    },
    {
      "cell_type": "markdown",
      "source": [
        "https://datalemur.com/questions/non-profitable-drugs"
      ],
      "metadata": {
        "id": "LIOBy6QhA_Os"
      }
    },
    {
      "cell_type": "code",
      "source": [
        "%%sql\n",
        "WITH profit_per_drug AS (\n",
        "SELECT\n",
        "  manufacturer,\n",
        "  drug,\n",
        "  SUM(total_sales - cogs) as profit\n",
        "FROM pharmacy_sales\n",
        "GROUP BY manufacturer, drug\n",
        ")\n",
        "SELECT\n",
        "  manufacturer,\n",
        "  COUNT(drug) as drug_count,\n",
        "  ABS(SUM(profit)) as total_loss\n",
        "FROM profit_per_drug\n",
        "WHERE\n",
        "  profit < 0\n",
        "GROUP BY manufacturer\n",
        "ORDER BY total_loss DESC\n",
        ";"
      ],
      "metadata": {
        "id": "6ax7p5I_jnve"
      },
      "execution_count": null,
      "outputs": []
    }
  ],
  "metadata": {
    "colab": {
      "provenance": [],
      "include_colab_link": true
    },
    "kernelspec": {
      "display_name": "Python 3",
      "name": "python3"
    }
  },
  "nbformat": 4,
  "nbformat_minor": 0
}