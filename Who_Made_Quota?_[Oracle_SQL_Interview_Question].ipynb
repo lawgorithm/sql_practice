{
  "cells": [
    {
      "cell_type": "markdown",
      "metadata": {
        "id": "view-in-github",
        "colab_type": "text"
      },
      "source": [
        "<a href=\"https://colab.research.google.com/github/lawgorithm/sql_practice/blob/main/Who_Made_Quota%3F_%5BOracle_SQL_Interview_Question%5D.ipynb\" target=\"_parent\"><img src=\"https://colab.research.google.com/assets/colab-badge.svg\" alt=\"Open In Colab\"/></a>"
      ]
    },
    {
      "cell_type": "markdown",
      "source": [
        "https://datalemur.com/questions/oracle-sales-quota"
      ],
      "metadata": {
        "id": "LIOBy6QhA_Os"
      }
    },
    {
      "cell_type": "code",
      "source": [
        "%%sql\n",
        "WITH first_query AS (\n",
        "SELECT\n",
        "  a.employee_id,\n",
        "  quota,\n",
        "  SUM(deal_size) as total_deal_size\n",
        "FROM deals as a\n",
        "  LEFT JOIN sales_quotas as b\n",
        "  ON (a.employee_id = b.employee_id)\n",
        "GROUP BY a.employee_id, quota\n",
        ")\n",
        "SELECT\n",
        "  employee_id,\n",
        "  (CASE WHEN total_deal_size >= quota THEN 'yes' ELSE 'no' END) as made_quota\n",
        "FROM first_query\n",
        "ORDER BY employee_id ASC\n",
        ";"
      ],
      "metadata": {
        "id": "6ax7p5I_jnve"
      },
      "execution_count": null,
      "outputs": []
    }
  ],
  "metadata": {
    "colab": {
      "provenance": [],
      "include_colab_link": true
    },
    "kernelspec": {
      "display_name": "Python 3",
      "name": "python3"
    }
  },
  "nbformat": 4,
  "nbformat_minor": 0
}