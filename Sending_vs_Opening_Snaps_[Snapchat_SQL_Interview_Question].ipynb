{
  "cells": [
    {
      "cell_type": "markdown",
      "metadata": {
        "id": "view-in-github",
        "colab_type": "text"
      },
      "source": [
        "<a href=\"https://colab.research.google.com/github/lawgorithm/sql_practice/blob/main/Sending_vs_Opening_Snaps_%5BSnapchat_SQL_Interview_Question%5D.ipynb\" target=\"_parent\"><img src=\"https://colab.research.google.com/assets/colab-badge.svg\" alt=\"Open In Colab\"/></a>"
      ]
    },
    {
      "cell_type": "markdown",
      "source": [
        "https://datalemur.com/questions/time-spent-snaps"
      ],
      "metadata": {
        "id": "LIOBy6QhA_Os"
      }
    },
    {
      "cell_type": "code",
      "source": [
        "%%sql\n",
        "WITH table1 AS (\n",
        "SELECT\n",
        "  age_bucket,\n",
        "  SUM(CASE WHEN activity_type = 'send' THEN time_spent ELSE 0 END) as sent_time_spent,\n",
        "  SUM(CASE WHEN activity_type = 'open' THEN time_spent ELSE 0 END) as open_time_spent\n",
        "FROM\n",
        "  activities as a\n",
        "  LEFT JOIN age_breakdown as b\n",
        "  ON (a.user_id = b.user_id)\n",
        "GROUP BY age_bucket\n",
        ")\n",
        "SELECT\n",
        "  age_bucket,\n",
        "  ROUND(100 * sent_time_spent / (sent_time_spent + open_time_spent), 2)  as send_perc,\n",
        "  ROUND(100 * open_time_spent / (sent_time_spent + open_time_spent), 2) as open_perc\n",
        "FROM table1\n",
        ";"
      ],
      "metadata": {
        "id": "6ax7p5I_jnve"
      },
      "execution_count": null,
      "outputs": []
    }
  ],
  "metadata": {
    "colab": {
      "provenance": [],
      "include_colab_link": true
    },
    "kernelspec": {
      "display_name": "Python 3",
      "name": "python3"
    }
  },
  "nbformat": 4,
  "nbformat_minor": 0
}