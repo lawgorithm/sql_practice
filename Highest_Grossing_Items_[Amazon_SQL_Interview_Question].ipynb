{
  "cells": [
    {
      "cell_type": "markdown",
      "metadata": {
        "id": "view-in-github",
        "colab_type": "text"
      },
      "source": [
        "<a href=\"https://colab.research.google.com/github/lawgorithm/sql_practice/blob/main/Highest_Grossing_Items_%5BAmazon_SQL_Interview_Question%5D.ipynb\" target=\"_parent\"><img src=\"https://colab.research.google.com/assets/colab-badge.svg\" alt=\"Open In Colab\"/></a>"
      ]
    },
    {
      "cell_type": "markdown",
      "source": [
        "https://datalemur.com/questions/sql-highest-grossing"
      ],
      "metadata": {
        "id": "LIOBy6QhA_Os"
      }
    },
    {
      "cell_type": "code",
      "source": [
        "%%sql\n",
        "WITH aggregate_spend AS (\n",
        "SELECT\n",
        "  category,\n",
        "  product,\n",
        "  SUM(spend) as total_spend\n",
        "FROM product_spend\n",
        "WHERE\n",
        "  transaction_date BETWEEN '2022-01-01' AND '2022-12-31'\n",
        "GROUP BY category, product\n",
        "), row_data AS (\n",
        "SELECT\n",
        "  category,\n",
        "  product,\n",
        "  total_spend,\n",
        "  ROW_NUMBER () OVER (\n",
        "    PARTITION BY category\n",
        "    ORDER BY total_spend DESC\n",
        "  ) as num\n",
        "FROM aggregate_spend"
      ],
      "metadata": {
        "id": "6ax7p5I_jnve"
      },
      "execution_count": null,
      "outputs": []
    }
  ],
  "metadata": {
    "colab": {
      "provenance": [],
      "include_colab_link": true
    },
    "kernelspec": {
      "display_name": "Python 3",
      "name": "python3"
    }
  },
  "nbformat": 4,
  "nbformat_minor": 0
}