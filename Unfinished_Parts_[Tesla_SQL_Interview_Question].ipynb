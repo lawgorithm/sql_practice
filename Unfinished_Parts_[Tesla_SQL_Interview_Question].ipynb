{
  "cells": [
    {
      "cell_type": "markdown",
      "metadata": {
        "id": "view-in-github",
        "colab_type": "text"
      },
      "source": [
        "<a href=\"https://colab.research.google.com/github/lawgorithm/sql_practice/blob/main/Unfinished_Parts_%5BTesla_SQL_Interview_Question%5D.ipynb\" target=\"_parent\"><img src=\"https://colab.research.google.com/assets/colab-badge.svg\" alt=\"Open In Colab\"/></a>"
      ]
    },
    {
      "cell_type": "markdown",
      "source": [
        "https://datalemur.com/questions/tesla-unfinished-parts"
      ],
      "metadata": {
        "id": "LIOBy6QhA_Os"
      }
    },
    {
      "cell_type": "code",
      "source": [
        "%%sql\n",
        "\n",
        "SELECT\n",
        "  part,\n",
        "  assembly_step\n",
        "FROM parts_assembly\n",
        "WHERE\n",
        "  finish_date is NULL\n",
        ";"
      ],
      "metadata": {
        "id": "3gcpj0kuAcpG"
      },
      "execution_count": null,
      "outputs": []
    }
  ],
  "metadata": {
    "colab": {
      "provenance": [],
      "include_colab_link": true
    },
    "kernelspec": {
      "display_name": "Python 3",
      "name": "python3"
    }
  },
  "nbformat": 4,
  "nbformat_minor": 0
}