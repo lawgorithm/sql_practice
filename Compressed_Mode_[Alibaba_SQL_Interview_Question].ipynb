{
  "cells": [
    {
      "cell_type": "markdown",
      "metadata": {
        "id": "view-in-github",
        "colab_type": "text"
      },
      "source": [
        "<a href=\"https://colab.research.google.com/github/lawgorithm/sql_practice/blob/main/Compressed_Mode_%5BAlibaba_SQL_Interview_Question%5D.ipynb\" target=\"_parent\"><img src=\"https://colab.research.google.com/assets/colab-badge.svg\" alt=\"Open In Colab\"/></a>"
      ]
    },
    {
      "cell_type": "markdown",
      "source": [
        "https://datalemur.com/questions/alibaba-compressed-mode"
      ],
      "metadata": {
        "id": "LIOBy6QhA_Os"
      }
    },
    {
      "cell_type": "code",
      "source": [
        "%%sql\n",
        "WITH mode_finder AS (\n",
        "SELECT\n",
        "  MAX(order_occurrences) as mode\n",
        "FROM items_per_order\n",
        ")\n",
        "SELECT\n",
        "  item_count\n",
        "FROM\n",
        "  items_per_order\n",
        "WHERE\n",
        "  order_occurrences = (SELECT mode FROM mode_finder)\n",
        "ORDER BY item_count ASC\n",
        ";"
      ],
      "metadata": {
        "id": "6ax7p5I_jnve"
      },
      "execution_count": null,
      "outputs": []
    }
  ],
  "metadata": {
    "colab": {
      "provenance": [],
      "include_colab_link": true
    },
    "kernelspec": {
      "display_name": "Python 3",
      "name": "python3"
    }
  },
  "nbformat": 4,
  "nbformat_minor": 0
}