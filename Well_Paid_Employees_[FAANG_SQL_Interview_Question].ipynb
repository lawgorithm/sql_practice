{
  "cells": [
    {
      "cell_type": "markdown",
      "metadata": {
        "id": "view-in-github",
        "colab_type": "text"
      },
      "source": [
        "<a href=\"https://colab.research.google.com/github/lawgorithm/sql_practice/blob/main/Well_Paid_Employees_%5BFAANG_SQL_Interview_Question%5D.ipynb\" target=\"_parent\"><img src=\"https://colab.research.google.com/assets/colab-badge.svg\" alt=\"Open In Colab\"/></a>"
      ]
    },
    {
      "cell_type": "markdown",
      "source": [
        "https://datalemur.com/questions/sql-well-paid-employees"
      ],
      "metadata": {
        "id": "LIOBy6QhA_Os"
      }
    },
    {
      "cell_type": "code",
      "source": [
        "%%sql\n",
        "WITH first_query AS (\n",
        "SELECT\n",
        "  a.employee_id,\n",
        "  a.name as employee_name,\n",
        "  a.salary as salary,\n",
        "  a.manager_id,\n",
        "  b.salary as manager_salary\n",
        "FROM\n",
        "  employee as a\n",
        "  LEFT JOIN\n",
        "  employee as b\n",
        "  ON (a.manager_id = b.employee_id)\n",
        ")\n",
        "SELECT\n",
        "  employee_id,\n",
        "  employee_name\n",
        "FROM first_query\n",
        "WHERE\n",
        "  salary > manager_salary\n",
        ";"
      ],
      "metadata": {
        "id": "6ax7p5I_jnve"
      },
      "execution_count": null,
      "outputs": []
    }
  ],
  "metadata": {
    "colab": {
      "provenance": [],
      "include_colab_link": true
    },
    "kernelspec": {
      "display_name": "Python 3",
      "name": "python3"
    }
  },
  "nbformat": 4,
  "nbformat_minor": 0
}