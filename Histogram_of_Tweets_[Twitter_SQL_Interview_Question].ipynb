{
  "cells": [
    {
      "cell_type": "markdown",
      "metadata": {
        "id": "view-in-github",
        "colab_type": "text"
      },
      "source": [
        "<a href=\"https://colab.research.google.com/github/lawgorithm/sql_practice/blob/main/Histogram_of_Tweets_%5BTwitter_SQL_Interview_Question%5D.ipynb\" target=\"_parent\"><img src=\"https://colab.research.google.com/assets/colab-badge.svg\" alt=\"Open In Colab\"/></a>"
      ]
    },
    {
      "cell_type": "markdown",
      "source": [
        "https://datalemur.com/questions/sql-histogram-tweets"
      ],
      "metadata": {
        "id": "LIOBy6QhA_Os"
      }
    },
    {
      "cell_type": "code",
      "source": [
        "%%sql\n",
        "With table1 AS (\n",
        "SELECT\n",
        "  user_id,\n",
        "  COUNT(tweet_id) as num_tweets\n",
        "FROM tweets\n",
        "WHERE\n",
        "  tweet_date BETWEEN '2022-01-01' AND '2022-12-31'\n",
        "GROUP BY user_id\n",
        ")\n",
        "SELECT\n",
        "  num_tweets,\n",
        "  COUNT(user_id) as num_users\n",
        "FROM table1\n",
        "GROUP BY num_tweets\n",
        ";"
      ],
      "metadata": {
        "id": "3gcpj0kuAcpG"
      },
      "execution_count": null,
      "outputs": []
    }
  ],
  "metadata": {
    "colab": {
      "provenance": [],
      "include_colab_link": true
    },
    "kernelspec": {
      "display_name": "Python 3",
      "name": "python3"
    }
  },
  "nbformat": 4,
  "nbformat_minor": 0
}