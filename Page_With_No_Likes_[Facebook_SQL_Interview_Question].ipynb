{
  "cells": [
    {
      "cell_type": "markdown",
      "metadata": {
        "id": "view-in-github",
        "colab_type": "text"
      },
      "source": [
        "<a href=\"https://colab.research.google.com/github/lawgorithm/sql_practice/blob/main/Page_With_No_Likes_%5BFacebook_SQL_Interview_Question%5D.ipynb\" target=\"_parent\"><img src=\"https://colab.research.google.com/assets/colab-badge.svg\" alt=\"Open In Colab\"/></a>"
      ]
    },
    {
      "cell_type": "markdown",
      "source": [
        "https://datalemur.com/questions/sql-page-with-no-likes"
      ],
      "metadata": {
        "id": "LIOBy6QhA_Os"
      }
    },
    {
      "cell_type": "code",
      "source": [
        "%%sql\n",
        "\n",
        "WITH table1 AS (\n",
        "SELECT\n",
        "  a.page_id as page_id,\n",
        "  COUNT(b.user_id) as num_liking_users\n",
        "FROM\n",
        "  pages as a\n",
        "  LEFT JOIN\n",
        "  page_likes as b\n",
        "  ON(a.page_id = b.page_id)\n",
        "GROUP BY a.page_id\n",
        ")\n",
        "SELECT\n",
        "  page_id\n",
        "FROM table1\n",
        "WHERE\n",
        "  num_liking_users = 0\n",
        "ORDER BY page_id ASC\n",
        ";"
      ],
      "metadata": {
        "id": "3gcpj0kuAcpG"
      },
      "execution_count": null,
      "outputs": []
    }
  ],
  "metadata": {
    "colab": {
      "provenance": [],
      "include_colab_link": true
    },
    "kernelspec": {
      "display_name": "Python 3",
      "name": "python3"
    }
  },
  "nbformat": 4,
  "nbformat_minor": 0
}