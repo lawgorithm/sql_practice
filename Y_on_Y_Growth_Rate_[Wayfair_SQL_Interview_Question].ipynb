{
  "cells": [
    {
      "cell_type": "markdown",
      "metadata": {
        "id": "view-in-github",
        "colab_type": "text"
      },
      "source": [
        "<a href=\"https://colab.research.google.com/github/lawgorithm/sql_practice/blob/main/Y_on_Y_Growth_Rate_%5BWayfair_SQL_Interview_Question%5D.ipynb\" target=\"_parent\"><img src=\"https://colab.research.google.com/assets/colab-badge.svg\" alt=\"Open In Colab\"/></a>"
      ]
    },
    {
      "cell_type": "markdown",
      "source": [
        "https://datalemur.com/questions/yoy-growth-rate"
      ],
      "metadata": {
        "id": "LIOBy6QhA_Os"
      }
    },
    {
      "cell_type": "code",
      "source": [
        "%%sql\n",
        "WITH yearly_spend_cte AS (\n",
        "  SELECT\n",
        "    EXTRACT(YEAR FROM transaction_date) AS yr,\n",
        "    product_id,\n",
        "    spend AS curr_year_spend,\n",
        "    # LAG() function allows you to access data of the previous row from the current row\n",
        "    LAG(spend) OVER (\n",
        "      # Sort of acts a a group by. I think mainly this means LAG() evaluated\n",
        "      # against the first row for the product_id will return NULL, rather than\n",
        "      # the last spend value for a different product\n",
        "      PARTITION BY product_id\n",
        "      # It's crucial to do the order by correctly, since that determines the\n",
        "      # semantics of what the \"last\" row means\n",
        "      ORDER BY\n",
        "        product_id,\n",
        "        EXTRACT(YEAR FROM transaction_date)) AS prev_year_spend\n",
        "  FROM user_transactions\n",
        ")\n",
        "\n",
        "SELECT\n",
        "  yr,\n",
        "  product_id,\n",
        "  curr_year_spend,\n",
        "  prev_year_spend,\n",
        "  ROUND(100 *\n",
        "    (curr_year_spend - prev_year_spend)\n",
        "    / prev_year_spend\n",
        "  , 2) AS yoy_rate\n",
        "FROM yearly_spend_cte;"
      ],
      "metadata": {
        "id": "x1N_K6IfHdaw"
      },
      "execution_count": null,
      "outputs": []
    },
    {
      "cell_type": "code",
      "source": [
        "# Note: I think this is mostly correct but the website won't accept it because\n",
        "# it drops rows where the prior year is NULL\n",
        "%%sql\n",
        "WITH first_query AS (\n",
        "SELECT\n",
        "  EXTRACT(YEAR FROM transaction_date) as yr,\n",
        "  product_id,\n",
        "  SUM(spend) as spend\n",
        "FROM user_transactions as this_year\n",
        "GROUP BY yr, product_id\n",
        ")\n",
        "SELECT\n",
        "  a.product_id,\n",
        "  a.yr as this_year,\n",
        "  b.yr as last_year,\n",
        "  a.spend as curr_year_spend,\n",
        "  b.spend as prev_year_spend,\n",
        "  ROUND(100 * (a.spend / b.spend - 1), 2) as yoy_rate\n",
        "FROM\n",
        "  first_query a\n",
        "  LEFT JOIN\n",
        "  first_query b\n",
        "  ON (a.product_id = b.product_id)\n",
        "WHERE\n",
        "  b.yr = a.yr - 1\n",
        "ORDER BY product_id, this_year ASC\n",
        ";"
      ],
      "metadata": {
        "id": "6ax7p5I_jnve"
      },
      "execution_count": null,
      "outputs": []
    }
  ],
  "metadata": {
    "colab": {
      "provenance": [],
      "include_colab_link": true
    },
    "kernelspec": {
      "display_name": "Python 3",
      "name": "python3"
    }
  },
  "nbformat": 4,
  "nbformat_minor": 0
}