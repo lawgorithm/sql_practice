{
  "cells": [
    {
      "cell_type": "markdown",
      "metadata": {
        "id": "view-in-github",
        "colab_type": "text"
      },
      "source": [
        "<a href=\"https://colab.research.google.com/github/lawgorithm/sql_practice/blob/main/Server_Utilization_Time_%5BAmazon_SQL_Interview_Question%5D.ipynb\" target=\"_parent\"><img src=\"https://colab.research.google.com/assets/colab-badge.svg\" alt=\"Open In Colab\"/></a>"
      ]
    },
    {
      "cell_type": "markdown",
      "source": [
        "https://datalemur.com/questions/total-utilization-time"
      ],
      "metadata": {
        "id": "LIOBy6QhA_Os"
      }
    },
    {
      "cell_type": "code",
      "source": [
        "# Website solution, seems wrong based on null handling to me\n",
        "%%sql\n",
        "WITH running_time\n",
        "AS (\n",
        "  SELECT\n",
        "    server_id,\n",
        "    session_status,\n",
        "    status_time AS start_time,\n",
        "    LEAD(status_time) OVER (\n",
        "      PARTITION BY server_id\n",
        "      ORDER BY status_time) AS stop_time\n",
        "  FROM server_utilization\n",
        ")\n",
        "\n",
        "SELECT\n",
        "  DATE_PART('days', JUSTIFY_HOURS(SUM(stop_time - start_time))) AS total_uptime_days\n",
        "FROM running_time\n",
        "WHERE session_status = 'start'\n",
        "  AND stop_time IS NOT NULL;"
      ],
      "metadata": {
        "id": "oRfhoqrzfpjt"
      },
      "execution_count": null,
      "outputs": []
    },
    {
      "cell_type": "code",
      "source": [
        "# Alternative solution that gives the same result\n",
        "%%sql\n",
        "WITH running_time\n",
        "AS (\n",
        "  SELECT\n",
        "    server_id,\n",
        "    session_status,\n",
        "    status_time AS start_time,\n",
        "    LEAD(status_time) OVER (\n",
        "      PARTITION BY server_id\n",
        "      ORDER BY status_time) AS stop_time\n",
        "  FROM server_utilization\n",
        ")\n",
        "\n",
        "SELECT\n",
        "  FLOOR(SUM(EXTRACT(EPOCH FROM stop_time) - EXTRACT(EPOCH FROM start_time)) / (60*60*24)) AS total_uptime_days\n",
        "FROM running_time\n",
        "WHERE session_status = 'start'\n",
        ";"
      ],
      "metadata": {
        "id": "f6jE5D3Dls01"
      },
      "execution_count": null,
      "outputs": []
    },
    {
      "cell_type": "code",
      "source": [
        "# My solution\n",
        "%%sql\n",
        "WITH server_level_data AS (\n",
        "SELECT\n",
        "  server_id,\n",
        "  session_status,\n",
        "  status_time as stop_time,\n",
        "  LAG(status_time) OVER (\n",
        "    PARTITION BY server_id\n",
        "    ORDER BY status_time ASC\n",
        "  ) as start_time,\n",
        "  MAX(status_time) OVER () AS global_max,\n",
        "  MIN(status_time) OVER () AS global_min\n",
        "FROM server_utilization\n",
        "), server_durations AS (\n",
        "SELECT\n",
        "  server_id,\n",
        "  EXTRACT(EPOCH FROM COALESCE(stop_time, global_max)) -\n",
        "    EXTRACT(EPOCH FROM COALESCE(start_time, global_min)) AS seconds_duration\n",
        "FROM server_level_data\n",
        "WHERE\n",
        "  session_status = 'stop'\n",
        ")\n",
        "SELECT\n",
        "  FLOOR(SUM(seconds_duration) / (60 * 60 * 24))\n",
        "FROM server_durations"
      ],
      "metadata": {
        "id": "6ax7p5I_jnve"
      },
      "execution_count": null,
      "outputs": []
    }
  ],
  "metadata": {
    "colab": {
      "provenance": [],
      "include_colab_link": true
    },
    "kernelspec": {
      "display_name": "Python 3",
      "name": "python3"
    }
  },
  "nbformat": 4,
  "nbformat_minor": 0
}