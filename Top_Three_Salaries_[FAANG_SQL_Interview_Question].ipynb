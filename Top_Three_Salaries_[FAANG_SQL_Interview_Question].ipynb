{
  "cells": [
    {
      "cell_type": "markdown",
      "metadata": {
        "id": "view-in-github",
        "colab_type": "text"
      },
      "source": [
        "<a href=\"https://colab.research.google.com/github/lawgorithm/sql_practice/blob/main/Top_Three_Salaries_%5BFAANG_SQL_Interview_Question%5D.ipynb\" target=\"_parent\"><img src=\"https://colab.research.google.com/assets/colab-badge.svg\" alt=\"Open In Colab\"/></a>"
      ]
    },
    {
      "cell_type": "markdown",
      "source": [
        "https://datalemur.com/questions/sql-top-three-salaries"
      ],
      "metadata": {
        "id": "LIOBy6QhA_Os"
      }
    },
    {
      "cell_type": "code",
      "source": [
        "%%sql\n",
        "WITH table1 AS (\n",
        "SELECT\n",
        "  name,\n",
        "  department_name,\n",
        "  salary,\n",
        "  # DENSE_RANK() will handle ties appropriate (if two people have the same\n",
        "  # salary they will get the same rank.\n",
        "  # ROW_NUM() just numbers rows to that won't handle ties.\n",
        "  # RANK() is also bad because it will skip some numbers when ties. Like, it two\n",
        "  # people are tied for second it will rank 1, 2, 2, 4\n",
        "  DENSE_RANK () OVER (\n",
        "    PARTITION BY department_name\n",
        "    ORDER BY salary DESC\n",
        "  ) as row_num\n",
        "FROM\n",
        "  employee as a\n",
        "  LEFT JOIN\n",
        "  department as b\n",
        "  ON (a.department_id = b.department_id)\n",
        ")\n",
        "SELECT\n",
        "  name,\n",
        "  department_name,\n",
        "  salary\n",
        "FROM table1\n",
        "WHERE\n",
        "  row_num <= 3\n",
        "ORDER BY department_name ASC, salary DESC, name ASC\n",
        "\n",
        ";"
      ],
      "metadata": {
        "id": "6ax7p5I_jnve"
      },
      "execution_count": null,
      "outputs": []
    }
  ],
  "metadata": {
    "colab": {
      "provenance": [],
      "include_colab_link": true
    },
    "kernelspec": {
      "display_name": "Python 3",
      "name": "python3"
    }
  },
  "nbformat": 4,
  "nbformat_minor": 0
}