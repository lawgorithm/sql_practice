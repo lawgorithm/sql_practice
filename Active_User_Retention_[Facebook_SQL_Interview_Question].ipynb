{
  "cells": [
    {
      "cell_type": "markdown",
      "metadata": {
        "id": "view-in-github",
        "colab_type": "text"
      },
      "source": [
        "<a href=\"https://colab.research.google.com/github/lawgorithm/sql_practice/blob/main/Active_User_Retention_%5BFacebook_SQL_Interview_Question%5D.ipynb\" target=\"_parent\"><img src=\"https://colab.research.google.com/assets/colab-badge.svg\" alt=\"Open In Colab\"/></a>"
      ]
    },
    {
      "cell_type": "markdown",
      "source": [
        "https://datalemur.com/questions/user-retention"
      ],
      "metadata": {
        "id": "LIOBy6QhA_Os"
      }
    },
    {
      "cell_type": "code",
      "source": [
        "%%sql\n",
        "SELECT\n",
        "  EXTRACT(MONTH FROM curr_month.event_date) AS mth,\n",
        "  COUNT(DISTINCT curr_month.user_id) AS monthly_active_users\n",
        "FROM user_actions AS curr_month\n",
        "WHERE\n",
        "  EXISTS (\n",
        "    SELECT last_month.user_id\n",
        "    FROM user_actions AS last_month\n",
        "    WHERE last_month.user_id = curr_month.user_id\n",
        "      AND EXTRACT(MONTH FROM last_month.event_date) =\n",
        "      EXTRACT(MONTH FROM curr_month.event_date - interval '1 month')\n",
        "  )\n",
        "  AND EXTRACT(MONTH FROM curr_month.event_date) = 7\n",
        "  AND EXTRACT(YEAR FROM curr_month.event_date) = 2022\n",
        "GROUP BY EXTRACT(MONTH FROM curr_month.event_date);"
      ],
      "metadata": {
        "id": "6ax7p5I_jnve"
      },
      "execution_count": null,
      "outputs": []
    }
  ],
  "metadata": {
    "colab": {
      "provenance": [],
      "include_colab_link": true
    },
    "kernelspec": {
      "display_name": "Python 3",
      "name": "python3"
    }
  },
  "nbformat": 4,
  "nbformat_minor": 0
}