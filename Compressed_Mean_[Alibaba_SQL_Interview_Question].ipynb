{
  "cells": [
    {
      "cell_type": "markdown",
      "metadata": {
        "id": "view-in-github",
        "colab_type": "text"
      },
      "source": [
        "<a href=\"https://colab.research.google.com/github/lawgorithm/sql_practice/blob/main/Compressed_Mean_%5BAlibaba_SQL_Interview_Question%5D.ipynb\" target=\"_parent\"><img src=\"https://colab.research.google.com/assets/colab-badge.svg\" alt=\"Open In Colab\"/></a>"
      ]
    },
    {
      "cell_type": "markdown",
      "source": [
        "https://datalemur.com/questions/alibaba-compressed-mean"
      ],
      "metadata": {
        "id": "LIOBy6QhA_Os"
      }
    },
    {
      "cell_type": "code",
      "source": [
        "%%sql\n",
        "SELECT\n",
        "  ROUND(\n",
        "    SUM(CAST(order_occurrences * item_count AS DECIMAL)) /\n",
        "      SUM(order_occurrences)\n",
        "      , 1) as mean\n",
        "  # The below doesn't work because the ROUND() function doesn't like floats.\n",
        "  # Gives the error: function round(double precision, integer) does not exist\n",
        "  -- ROUND(\n",
        "  --   SUM(CAST(order_occurrences * item_count AS FLOAT)) /\n",
        "  --     SUM(order_occurrences)\n",
        "  --     , 1) as mean2\n",
        "FROM items_per_order;"
      ],
      "metadata": {
        "id": "6ax7p5I_jnve"
      },
      "execution_count": null,
      "outputs": []
    }
  ],
  "metadata": {
    "colab": {
      "provenance": [],
      "include_colab_link": true
    },
    "kernelspec": {
      "display_name": "Python 3",
      "name": "python3"
    }
  },
  "nbformat": 4,
  "nbformat_minor": 0
}