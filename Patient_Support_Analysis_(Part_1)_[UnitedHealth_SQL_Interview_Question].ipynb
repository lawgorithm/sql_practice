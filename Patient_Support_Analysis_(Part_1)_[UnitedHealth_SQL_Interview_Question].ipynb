{
  "cells": [
    {
      "cell_type": "markdown",
      "metadata": {
        "id": "view-in-github",
        "colab_type": "text"
      },
      "source": [
        "<a href=\"https://colab.research.google.com/github/lawgorithm/sql_practice/blob/main/Patient_Support_Analysis_(Part_1)_%5BUnitedHealth_SQL_Interview_Question%5D.ipynb\" target=\"_parent\"><img src=\"https://colab.research.google.com/assets/colab-badge.svg\" alt=\"Open In Colab\"/></a>"
      ]
    },
    {
      "cell_type": "markdown",
      "source": [
        "https://datalemur.com/questions/frequent-callers\n",
        "\n"
      ],
      "metadata": {
        "id": "LIOBy6QhA_Os"
      }
    },
    {
      "cell_type": "code",
      "source": [
        "%%sql\n",
        "WITH table1 AS (\n",
        "SELECT\n",
        "  policy_holder_id,\n",
        "  COUNT(case_id) as cnt\n",
        "FROM callers\n",
        "GROUP BY policy_holder_id\n",
        ")\n",
        "SELECT\n",
        "  COUNT(*) as policy_holder_count\n",
        "FROM table1\n",
        "WHERE\n",
        "  cnt >= 3\n",
        ";"
      ],
      "metadata": {
        "id": "6ax7p5I_jnve"
      },
      "execution_count": null,
      "outputs": []
    }
  ],
  "metadata": {
    "colab": {
      "provenance": [],
      "include_colab_link": true
    },
    "kernelspec": {
      "display_name": "Python 3",
      "name": "python3"
    }
  },
  "nbformat": 4,
  "nbformat_minor": 0
}