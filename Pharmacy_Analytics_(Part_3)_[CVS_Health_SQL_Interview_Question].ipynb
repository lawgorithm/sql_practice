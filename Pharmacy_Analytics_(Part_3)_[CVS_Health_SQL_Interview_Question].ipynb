{
  "cells": [
    {
      "cell_type": "markdown",
      "metadata": {
        "id": "view-in-github",
        "colab_type": "text"
      },
      "source": [
        "<a href=\"https://colab.research.google.com/github/lawgorithm/sql_practice/blob/main/Pharmacy_Analytics_(Part_3)_%5BCVS_Health_SQL_Interview_Question%5D.ipynb\" target=\"_parent\"><img src=\"https://colab.research.google.com/assets/colab-badge.svg\" alt=\"Open In Colab\"/></a>"
      ]
    },
    {
      "cell_type": "markdown",
      "source": [
        "https://datalemur.com/questions/total-drugs-sales"
      ],
      "metadata": {
        "id": "LIOBy6QhA_Os"
      }
    },
    {
      "cell_type": "code",
      "source": [
        "%%sql\n",
        "SELECT\n",
        "  manufacturer,\n",
        "  CONCAT(\n",
        "    '$',\n",
        "    CAST(ROUND(SUM(total_sales) / 1e6, 0) as varchar),\n",
        "    ' million'\n",
        "  ) as sale\n",
        "FROM pharmacy_sales\n",
        "GROUP BY manufacturer\n",
        "# Note the need to order by SUM(total_sales). This is because I cast sale as\n",
        "# a string\n",
        "ORDER BY SUM(total_sales) DESC, manufacturer ASC\n",
        ";"
      ],
      "metadata": {
        "id": "6ax7p5I_jnve"
      },
      "execution_count": null,
      "outputs": []
    }
  ],
  "metadata": {
    "colab": {
      "provenance": [],
      "include_colab_link": true
    },
    "kernelspec": {
      "display_name": "Python 3",
      "name": "python3"
    }
  },
  "nbformat": 4,
  "nbformat_minor": 0
}