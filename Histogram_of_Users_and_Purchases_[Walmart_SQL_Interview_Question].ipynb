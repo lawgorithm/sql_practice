{
  "cells": [
    {
      "cell_type": "markdown",
      "metadata": {
        "id": "view-in-github",
        "colab_type": "text"
      },
      "source": [
        "<a href=\"https://colab.research.google.com/github/lawgorithm/sql_practice/blob/main/Histogram_of_Users_and_Purchases_%5BWalmart_SQL_Interview_Question%5D.ipynb\" target=\"_parent\"><img src=\"https://colab.research.google.com/assets/colab-badge.svg\" alt=\"Open In Colab\"/></a>"
      ]
    },
    {
      "cell_type": "markdown",
      "source": [
        "https://datalemur.com/questions/histogram-users-purchases"
      ],
      "metadata": {
        "id": "LIOBy6QhA_Os"
      }
    },
    {
      "cell_type": "code",
      "source": [
        "%%sql\n",
        "WITH most_recent_transactions AS (\n",
        "SELECT\n",
        "  user_id,\n",
        "  MAX(transaction_date) as max_transaction_date\n",
        "FROM\n",
        "  user_transactions\n",
        "GROUP BY user_id\n",
        ")\n",
        "SELECT\n",
        "  a.user_id,\n",
        "  transaction_date,\n",
        "  COUNT(product_id) as purchase_count\n",
        "FROM\n",
        "  user_transactions as a\n",
        "  LEFT JOIN\n",
        "  most_recent_transactions as b\n",
        "  ON (a.user_id = b.user_id)\n",
        "WHERE\n",
        "  transaction_date = max_transaction_date\n",
        "GROUP BY a.user_id, transaction_date\n",
        "ORDER BY transaction_date ASC\n",
        ";"
      ],
      "metadata": {
        "id": "6ax7p5I_jnve"
      },
      "execution_count": null,
      "outputs": []
    }
  ],
  "metadata": {
    "colab": {
      "provenance": [],
      "include_colab_link": true
    },
    "kernelspec": {
      "display_name": "Python 3",
      "name": "python3"
    }
  },
  "nbformat": 4,
  "nbformat_minor": 0
}