{
  "cells": [
    {
      "cell_type": "markdown",
      "metadata": {
        "id": "view-in-github",
        "colab_type": "text"
      },
      "source": [
        "<a href=\"https://colab.research.google.com/github/lawgorithm/sql_practice/blob/main/Signup_Activation_Rate_%5BTikTok_SQL_Interview_Question%5D.ipynb\" target=\"_parent\"><img src=\"https://colab.research.google.com/assets/colab-badge.svg\" alt=\"Open In Colab\"/></a>"
      ]
    },
    {
      "cell_type": "markdown",
      "source": [
        "https://datalemur.com/questions/signup-confirmation-rate"
      ],
      "metadata": {
        "id": "LIOBy6QhA_Os"
      }
    },
    {
      "cell_type": "code",
      "source": [
        "%%sql\n",
        "WITH table1 AS (\n",
        "SELECT\n",
        "  user_id,\n",
        "  SUM(CASE WHEN signup_action = 'Confirmed' THEN 1 ELSE 0 END) as confirmations\n",
        "FROM\n",
        "  emails as a\n",
        "  LEFT JOIN\n",
        "  texts as b ON (a.email_id = b.email_id)\n",
        "GROUP BY user_id\n",
        ")\n",
        "SELECT\n",
        "  ROUND(SUM(confirmations) / SUM(1), 2) AS confirm_rate\n",
        "FROM table1\n",
        ";"
      ],
      "metadata": {
        "id": "6ax7p5I_jnve"
      },
      "execution_count": null,
      "outputs": []
    }
  ],
  "metadata": {
    "colab": {
      "provenance": [],
      "include_colab_link": true
    },
    "kernelspec": {
      "display_name": "Python 3",
      "name": "python3"
    }
  },
  "nbformat": 4,
  "nbformat_minor": 0
}