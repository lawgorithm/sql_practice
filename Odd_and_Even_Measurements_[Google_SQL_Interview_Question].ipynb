{
  "cells": [
    {
      "cell_type": "markdown",
      "metadata": {
        "id": "view-in-github",
        "colab_type": "text"
      },
      "source": [
        "<a href=\"https://colab.research.google.com/github/lawgorithm/sql_practice/blob/main/Odd_and_Even_Measurements_%5BGoogle_SQL_Interview_Question%5D.ipynb\" target=\"_parent\"><img src=\"https://colab.research.google.com/assets/colab-badge.svg\" alt=\"Open In Colab\"/></a>"
      ]
    },
    {
      "cell_type": "markdown",
      "source": [
        "https://datalemur.com/questions/odd-even-measurements"
      ],
      "metadata": {
        "id": "LIOBy6QhA_Os"
      }
    },
    {
      "cell_type": "code",
      "source": [
        "%%sql\n",
        "WITH first_query AS (\n",
        "SELECT\n",
        "  DATE(measurement_time) as measurement_day,\n",
        "  measurement_value,\n",
        "  ROW_NUMBER() OVER(\n",
        "    PARTITION BY DATE(measurement_time)\n",
        "    ORDER BY measurement_time ASC\n",
        "  ) AS m_number\n",
        "FROM measurements\n",
        ")\n",
        "SELECT\n",
        "  measurement_day,\n",
        "  SUM(CASE WHEN (MOD(m_number, 2) = 0) THEN measurement_value ELSE 0 END) as even_sum,\n",
        "  SUM(CASE WHEN (MOD(m_number, 2) = 1) THEN measurement_value ELSE 0 END) as odd_sum\n",
        "FROM first_query\n",
        "GROUP BY measurement_day\n",
        "\n",
        ";"
      ],
      "metadata": {
        "id": "6ax7p5I_jnve"
      },
      "execution_count": null,
      "outputs": []
    }
  ],
  "metadata": {
    "colab": {
      "provenance": [],
      "include_colab_link": true
    },
    "kernelspec": {
      "display_name": "Python 3",
      "name": "python3"
    }
  },
  "nbformat": 4,
  "nbformat_minor": 0
}