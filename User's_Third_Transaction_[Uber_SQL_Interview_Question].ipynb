{
  "cells": [
    {
      "cell_type": "markdown",
      "metadata": {
        "id": "view-in-github",
        "colab_type": "text"
      },
      "source": [
        "<a href=\"https://colab.research.google.com/github/lawgorithm/sql_practice/blob/main/User's_Third_Transaction_%5BUber_SQL_Interview_Question%5D.ipynb\" target=\"_parent\"><img src=\"https://colab.research.google.com/assets/colab-badge.svg\" alt=\"Open In Colab\"/></a>"
      ]
    },
    {
      "cell_type": "markdown",
      "source": [
        "https://datalemur.com/questions/sql-third-transaction"
      ],
      "metadata": {
        "id": "LIOBy6QhA_Os"
      }
    },
    {
      "cell_type": "code",
      "source": [
        "%%sql\n",
        "WITH table_1 AS (\n",
        "SELECT\n",
        "  user_id,\n",
        "  spend,\n",
        "  transaction_date,\n",
        "  ROW_NUMBER() OVER (\n",
        "    PARTITION BY user_id # basically, the equivilent of group by\n",
        "    ORDER BY transaction_date\n",
        "    ) AS row_num\n",
        "FROM transactions\n",
        ")\n",
        "SELECT\n",
        "  user_id,\n",
        "  spend,\n",
        "  transaction_date\n",
        "FROM table_1\n",
        "WHERE\n",
        "  row_num = 3\n",
        ";"
      ],
      "metadata": {
        "id": "6ax7p5I_jnve"
      },
      "execution_count": null,
      "outputs": []
    }
  ],
  "metadata": {
    "colab": {
      "provenance": [],
      "include_colab_link": true
    },
    "kernelspec": {
      "display_name": "Python 3",
      "name": "python3"
    }
  },
  "nbformat": 4,
  "nbformat_minor": 0
}